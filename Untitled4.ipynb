{
  "nbformat": 4,
  "nbformat_minor": 0,
  "metadata": {
    "colab": {
      "provenance": [],
      "include_colab_link": true
    },
    "kernelspec": {
      "name": "python3",
      "display_name": "Python 3"
    },
    "language_info": {
      "name": "python"
    }
  },
  "cells": [
    {
      "cell_type": "markdown",
      "metadata": {
        "id": "view-in-github",
        "colab_type": "text"
      },
      "source": [
        "<a href=\"https://colab.research.google.com/github/anki-ankita1234/MY-PROJECTS/blob/main/Untitled4.ipynb\" target=\"_parent\"><img src=\"https://colab.research.google.com/assets/colab-badge.svg\" alt=\"Open In Colab\"/></a>"
      ]
    },
    {
      "cell_type": "markdown",
      "source": [
        "** **bold text**NAME=ANKITA**\n",
        "**PROJECT NAME=HOUSE PRICE PREDICTION**"
      ],
      "metadata": {
        "id": "H6ensmo4YiuA"
      }
    },
    {
      "cell_type": "code",
      "execution_count": 1,
      "metadata": {
        "colab": {
          "base_uri": "https://localhost:8080/"
        },
        "id": "rMl3sCSwGvd_",
        "outputId": "84be7253-dd18-4f63-d6bb-7ea46889282f"
      },
      "outputs": [
        {
          "output_type": "stream",
          "name": "stdout",
          "text": [
            "CSV file 'housing_data.csv' has been created!\n"
          ]
        }
      ],
      "source": [
        "import pandas as pd\n",
        "\n",
        "# Define the data\n",
        "data = {\n",
        "    \"Size (sq ft)\": [1500, 2000, 1200, 1800, 2500],\n",
        "    \"Location\": [\"Melbourne\", \"Sydney\", \"Brisbane\", \"Perth\", \"Adelaide\"],\n",
        "    \"Rooms\": [3, 4, 2, 3, 5],\n",
        "    \"Year Built\": [2010, 2005, 2015, 2012, 2000],\n",
        "    \"Price ($)\": [650000, 950000, 480000, 720000, 870000]\n",
        "}\n",
        "\n",
        "# Create a DataFrame\n",
        "df = pd.DataFrame(data)\n",
        "\n",
        "# Save to a CSV file\n",
        "csv_file_path = \"housing_data.csv\"\n",
        "df.to_csv(csv_file_path, index=False)\n",
        "\n",
        "print(f\"CSV file '{csv_file_path}' has been created!\")"
      ]
    },
    {
      "cell_type": "code",
      "source": [
        "import pandas as pd\n",
        "from sklearn.model_selection import train_test_split\n",
        "from sklearn.preprocessing import StandardScaler, OneHotEncoder\n",
        "from sklearn.compose import ColumnTransformer\n",
        "from sklearn.pipeline import Pipeline\n",
        "from sklearn.linear_model import LinearRegression\n",
        "from sklearn.metrics import mean_absolute_error, mean_squared_error, r2_score\n",
        "\n",
        "\n",
        "# Step 2: Data Preprocessing\n",
        "# Separate features and target\n",
        "X = df.drop('Price ($)', axis=1)  # Features\n",
        "y = df['Price ($)']  # Target\n",
        "\n",
        "# Step 3: Preprocessing pipeline\n",
        "# Numeric features to scale\n",
        "numeric_features = ['Size (sq ft)', 'Rooms', 'Year Built']\n",
        "numeric_transformer = StandardScaler()\n",
        "\n",
        "# Categorical features to encode\n",
        "categorical_features = ['Location']\n",
        "categorical_transformer = OneHotEncoder(handle_unknown='ignore')\n",
        "\n",
        "# Combine both transformers into a column transformer\n",
        "preprocessor = ColumnTransformer(\n",
        "    transformers=[\n",
        "        ('num', numeric_transformer, numeric_features),\n",
        "        ('cat', categorical_transformer, categorical_features)\n",
        "    ])\n",
        "\n",
        "# Step 4: Create a pipeline with preprocessing and model training\n",
        "model_pipeline = Pipeline(steps=[\n",
        "    ('preprocessor', preprocessor),\n",
        "    ('regressor', LinearRegression())\n",
        "])\n",
        "\n",
        "# Step 5: Train-test split (80% training, 20% testing)\n",
        "X_train, X_test, y_train, y_test = train_test_split(X, y, test_size=0.2, random_state=42)\n",
        "\n",
        "# Step 6: Train the model\n",
        "model_pipeline.fit(X_train, y_train)\n",
        "\n",
        "# Step 7: Make predictions on the test set\n",
        "y_pred = model_pipeline.predict(X_test)\n",
        "\n",
        "# Step 8: Model Evaluation\n",
        "rmse = mean_squared_error(y_test, y_pred)\n",
        "mae = mean_absolute_error(y_test, y_pred)\n",
        "\n",
        "\n",
        "# Step 9: Print the evaluation metrics\n",
        "print(f\"RMSE: {rmse:.2f}\")\n",
        "print(f\"MAE: {mae:.2f}\")\n",
        "if len(y_test) > 1:\n",
        "    r2 = r2_score(y_test, y_pred)\n",
        "    print(f\"R²: {r2:.2f}\")\n",
        "else:\n",
        "    print(\"R²: Not applicable (test set has less than 2 samples)\")\n",
        "\n",
        "\n",
        "# Optionally: Display predicted vs actual values\n",
        "comparison = pd.DataFrame({'Actual Price ($)': y_test, 'Predicted Price ($)': y_pred})\n",
        "print(comparison)"
      ],
      "metadata": {
        "colab": {
          "base_uri": "https://localhost:8080/"
        },
        "id": "zOsfoZpnG62s",
        "outputId": "90814a0a-f6e0-4040-df87-7bf5d5343ed2"
      },
      "execution_count": 4,
      "outputs": [
        {
          "output_type": "stream",
          "name": "stdout",
          "text": [
            "RMSE: 37273860988.22\n",
            "MAE: 193064.40\n",
            "R²: Not applicable (test set has less than 2 samples)\n",
            "   Actual Price ($)  Predicted Price ($)\n",
            "1            950000        756935.604038\n"
          ]
        }
      ]
    },
    {
      "cell_type": "code",
      "metadata": {
        "id": "afc96c5e"
      },
      "source": [
        "# Add more data to the DataFrame\n",
        "new_data = {\n",
        "    \"Size (sq ft)\": [2200, 1600, 1900, 2800, 1400],\n",
        "    \"Location\": [\"Melbourne\", \"Brisbane\", \"Perth\", \"Sydney\", \"Adelaide\"],\n",
        "    \"Rooms\": [4, 3, 4, 5, 3],\n",
        "    \"Year Built\": [2018, 2011, 2014, 2019, 2008],\n",
        "    \"Price ($)\": [850000, 550000, 780000, 1200000, 600000]\n",
        "}\n",
        "new_df = pd.DataFrame(new_data)\n",
        "\n",
        "# Concatenate with the original DataFrame\n",
        "df = pd.concat([df, new_df], ignore_index=True)\n",
        "\n",
        "# Save the updated DataFrame to the CSV file\n",
        "df.to_csv(csv_file_path, index=False)\n",
        "\n",
        "print(\"Updated housing data:\")\n",
        "display(df)"
      ],
      "execution_count": null,
      "outputs": []
    }
  ]
}